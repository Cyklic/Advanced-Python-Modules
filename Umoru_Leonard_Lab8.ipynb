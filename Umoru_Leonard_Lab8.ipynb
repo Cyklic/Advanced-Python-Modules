{
 "cells": [
  {
   "cell_type": "markdown",
   "id": "a59a0ae1",
   "metadata": {},
   "source": [
    "# Week 10 Lab Leonard Umoru 041152507"
   ]
  },
  {
   "cell_type": "markdown",
   "id": "0717b6f1",
   "metadata": {},
   "source": [
    "### Question 1 - Decorators "
   ]
  },
  {
   "cell_type": "markdown",
   "id": "90b423b0",
   "metadata": {},
   "source": [
    "Imagine you're tasked with creating a Python application to manage a library's collection of books. \n",
    "\n",
    "The application has several functions such as adding a new book, deleting a book, and searching for books. As part of this project, you decide to implement a logging system to keep track of when each function is called and its parameters.\n",
    "\n",
    "1. Explain what decorators are in Python and how they can be useful in this scenario.\n",
    "\n",
    "2. Write a decorator function named log_function_call that logs the name of the function being called and its parameters.\n",
    "\n",
    "3. Demonstrate how you would use this log_function_call decorator to decorate the functions add_book, delete_book, and search_book in your library management application."
   ]
  },
  {
   "cell_type": "code",
   "execution_count": 1,
   "id": "e6e7e334",
   "metadata": {},
   "outputs": [],
   "source": [
    "# 1. Decorators are functions that modify the bahaviour of other functions/methods, by wrapping them with \n",
    "#    extra functionalities, without changing the original code. In this Scenario, you can use a logging system decorator\n",
    "#    function to wrap around the adding new book, deleting books, and searching books functions each."
   ]
  },
  {
   "cell_type": "code",
   "execution_count": 3,
   "id": "dec5ba3e",
   "metadata": {},
   "outputs": [],
   "source": [
    "# 2.\n",
    "def log_function_call(func):\n",
    "    def wrapper(*args):\n",
    "        func(*args)\n",
    "        print(f\"Function name: {func.__name__}\")\n",
    "        print(f\"Parameters: {args}\")\n",
    "    return wrapper"
   ]
  },
  {
   "cell_type": "code",
   "execution_count": 4,
   "id": "2a318def",
   "metadata": {},
   "outputs": [],
   "source": [
    "# 3.\n",
    "@log_function_call\n",
    "def add_book(name, author):\n",
    "    print(f'{name} by {author}, has been added')\n",
    "\n",
    "@log_function_call\n",
    "def delete_book(name, author):\n",
    "    print(f'{name} by {author}, has been deleted')\n",
    "\n",
    "@log_function_call\n",
    "def search_book(name, author):\n",
    "    print(f'{name} by {author}, has been found')"
   ]
  },
  {
   "cell_type": "code",
   "execution_count": 7,
   "id": "cd921241-82f9-402c-9d25-3c9529f967c2",
   "metadata": {},
   "outputs": [
    {
     "name": "stdout",
     "output_type": "stream",
     "text": [
      "Chemistry by Leonard, has been added\n",
      "Function name: add_book\n",
      "Parameters: ('Chemistry', 'Leonard')\n"
     ]
    }
   ],
   "source": [
    "add_book('Chemistry', 'Leonard')"
   ]
  },
  {
   "cell_type": "code",
   "execution_count": 9,
   "id": "f32a09d9",
   "metadata": {},
   "outputs": [
    {
     "name": "stdout",
     "output_type": "stream",
     "text": [
      "Biology by Gerald, has been deleted\n",
      "Function name: delete_book\n",
      "Parameters: ('Biology', 'Gerald')\n"
     ]
    }
   ],
   "source": [
    "delete_book('Biology', 'Gerald')"
   ]
  },
  {
   "cell_type": "code",
   "execution_count": 11,
   "id": "8892a6cc",
   "metadata": {},
   "outputs": [
    {
     "name": "stdout",
     "output_type": "stream",
     "text": [
      "Physics by Roland, has been found\n",
      "Function name: search_book\n",
      "Parameters: ('Physics', 'Roland')\n"
     ]
    }
   ],
   "source": [
    "search_book('Physics', 'Roland')"
   ]
  },
  {
   "cell_type": "markdown",
   "id": "b39ffa99",
   "metadata": {},
   "source": [
    "### Question 2 - Decorators "
   ]
  },
  {
   "cell_type": "markdown",
   "id": "7ed4ff32",
   "metadata": {},
   "source": [
    "Consider the following scenario: You have a large dataset containing millions of records, and you need to process each record one by one. Discuss how you would approach this task using a generator function in Python compared to using a traditional list.\n",
    "\n",
    "1. Explain what a generator function is and how it differs from a regular function or a list.\n",
    "\n",
    "2. Describe the advantages of using a generator function over a list in this scenario.\n",
    "\n",
    "3. Provide a simple example of a generator function that yields elements from a large dataset, and explain how it can be iterated over efficiently.\n",
    "Hint: You may want to discuss concepts like lazy evaluation, memory efficiency, and the yield keyword."
   ]
  },
  {
   "cell_type": "code",
   "execution_count": 13,
   "id": "b5133c98",
   "metadata": {},
   "outputs": [],
   "source": [
    "# 1. A generator function is a function that can be used to control the iteration behaviour of a loop, by yielding\n",
    "#    a sequence of results one value at time, rather than returning them all at once. The difference between a generator\n",
    "#    function and a regular function/list is that a generator function yields a sequence of results one value at a time,\n",
    "#    but a regular function/list returns all the results at once."
   ]
  },
  {
   "cell_type": "code",
   "execution_count": 15,
   "id": "42adbf43",
   "metadata": {},
   "outputs": [],
   "source": [
    "# 2.   The advantages of using a generator function over a list in this scenario would be:\n",
    "\n",
    "# i.   Less memory space: As we have millions of records, using a regular function or list would return all the millions of\n",
    "#      records each time we want to see the records which can take up a lot of memory space. However, using a generator function\n",
    "#      yields one record at a time keeping track of the current state of records which uses a lot less memory.\n",
    "# ii.  Faster Excecution time: Execution is faster for generator functions than regular functions/list, as it is not loading the \n",
    "#      entire records, insteading only yielding one record at a time.\n",
    "#iii.  Faster performace: This factor is proportional to the other two factors. The more the memory and the slower the execution time,  \n",
    "#      the worse the performance, and the less the memory and the faster the execution time, the better the performance. Therefore \n",
    "#      using generator functions rather than regular functions/lists would lead to better performance."
   ]
  },
  {
   "cell_type": "code",
   "execution_count": 17,
   "id": "7d85a87c",
   "metadata": {},
   "outputs": [],
   "source": [
    "# 3. \n",
    "def large_dataset(dataset):\n",
    "    for record in dataset:\n",
    "        yield record\n",
    "\n",
    "\n",
    "# For the yield key word, each time the function reaches a yield statement, it pauses and returns the current record the caller without \n",
    "# terminating the function. The function’s state is preserved, allowing it to continue from where it left off when the next item is requested.\n",
    "        \n",
    "# With this code, memory is efficient as the code generates each record from the dataset only when it is needed. This means they \n",
    "# don’t need to hold the entire sequence in memory, as a list would, therefore, significantly reducing the memory usage.\n",
    "\n",
    "# This code boosts performance with lazy evaluation, as it doesn’t process all records at once. Instead, it only calculates or fetches \n",
    "# each record as it’s needed. Lazy evaluation works hand in hand with memory efficiency."
   ]
  },
  {
   "cell_type": "code",
   "execution_count": null,
   "id": "732a7b45",
   "metadata": {},
   "outputs": [],
   "source": []
  },
  {
   "cell_type": "code",
   "execution_count": null,
   "id": "6d48b3aa",
   "metadata": {},
   "outputs": [],
   "source": []
  },
  {
   "cell_type": "markdown",
   "id": "44648c78",
   "metadata": {},
   "source": [
    "### Question 3 - Collections "
   ]
  },
  {
   "cell_type": "markdown",
   "id": "2626b52e",
   "metadata": {},
   "source": [
    "Imagine you are building a program to manage a bookstore's inventory. You need to store information about each book, including its title, author, genre, and price.  Provide an example of how you would use this collection to store the details of at least three different books.\n",
    "\n"
   ]
  },
  {
   "cell_type": "code",
   "execution_count": 19,
   "id": "aba6d5cb",
   "metadata": {},
   "outputs": [],
   "source": [
    "from collections import namedtuple"
   ]
  },
  {
   "cell_type": "code",
   "execution_count": 21,
   "id": "e650fb64",
   "metadata": {},
   "outputs": [],
   "source": [
    "Book_inventory = namedtuple('Book_inventory',['title','author','genre', 'price'])"
   ]
  },
  {
   "cell_type": "code",
   "execution_count": 23,
   "id": "ec2b6eca",
   "metadata": {},
   "outputs": [],
   "source": [
    "chemistry = Book_inventory(title='Chemistry',author='Sally',genre='Science', price=49.99)\n",
    "it = Book_inventory(title='IT',author='Annette',genre='Horror', price=24.99)\n",
    "ted = Book_inventory(title='Ted',author='Leonard',genre='Comedy', price=37.99)"
   ]
  },
  {
   "cell_type": "code",
   "execution_count": 25,
   "id": "e71df61b",
   "metadata": {},
   "outputs": [
    {
     "data": {
      "text/plain": [
       "Book_inventory(title='Chemistry', author='Sally', genre='Science', price=49.99)"
      ]
     },
     "execution_count": 25,
     "metadata": {},
     "output_type": "execute_result"
    }
   ],
   "source": [
    "chemistry"
   ]
  },
  {
   "cell_type": "code",
   "execution_count": 27,
   "id": "8b1f8ba7",
   "metadata": {},
   "outputs": [
    {
     "data": {
      "text/plain": [
       "Book_inventory(title='IT', author='Annette', genre='Horror', price=24.99)"
      ]
     },
     "execution_count": 27,
     "metadata": {},
     "output_type": "execute_result"
    }
   ],
   "source": [
    "it"
   ]
  },
  {
   "cell_type": "code",
   "execution_count": 29,
   "id": "c78bc384-6fde-4d19-bb2b-8ad504485486",
   "metadata": {},
   "outputs": [
    {
     "data": {
      "text/plain": [
       "Book_inventory(title='Ted', author='Leonard', genre='Comedy', price=37.99)"
      ]
     },
     "execution_count": 29,
     "metadata": {},
     "output_type": "execute_result"
    }
   ],
   "source": [
    "ted"
   ]
  },
  {
   "cell_type": "markdown",
   "id": "a63770f1",
   "metadata": {},
   "source": [
    "### Question 4 - Datetime "
   ]
  },
  {
   "cell_type": "markdown",
   "id": "8dc17bc6",
   "metadata": {},
   "source": [
    "\n",
    "1. Explain the purpose of the datetime module in Python.\n",
    "2. What is the difference between datetime.now() and datetime.today()?\n",
    "3. Discuss a scenario where you might need to convert a string representation of a date into a datetime object.\n",
    "4. Write a code to find the number of days remaining until your next birthday using datetime module functions."
   ]
  },
  {
   "cell_type": "code",
   "execution_count": 31,
   "id": "f5f4b8c1",
   "metadata": {},
   "outputs": [],
   "source": [
    "# 1. The datatime module in Python can be used to handle time stamps in your code. It can also be used to provide functionality to \n",
    "#    represent, compare, and manipulate dates and times such as extracting specific parts of a date (like the year or day) or time \n",
    "#    (like the hour or minute). It can be used for certain calculations involving days, months, years, hour, minutes, seconds etc. "
   ]
  },
  {
   "cell_type": "code",
   "execution_count": 33,
   "id": "9ab2a4b0",
   "metadata": {},
   "outputs": [],
   "source": [
    "# 2. The difference between datatime.now() and datetime.today() is that datatime.now() returns the current local date and time, with \n",
    "#    the option to include the timezone information if specified using the tz argument. While datetime.today() does the same thing but\n",
    "#    without the option for specifying any time zone. It always returns the local time."
   ]
  },
  {
   "cell_type": "code",
   "execution_count": 35,
   "id": "bf0f328a",
   "metadata": {},
   "outputs": [],
   "source": [
    "# 3. A Scenario where you might need to convert a string represenatation of a data into a datetime object is when you want to find the age\n",
    "#    of a person or something. To do this you would need to perform arithmetic calculations like subtraction, which cannot be done in \n",
    "#    string form. You would need to convert it to a datetime object so the system knows its calculating in terms of date and time."
   ]
  },
  {
   "cell_type": "code",
   "execution_count": 37,
   "id": "e5e702a0",
   "metadata": {},
   "outputs": [],
   "source": [
    "# 4.\n",
    "from datetime import datetime"
   ]
  },
  {
   "cell_type": "code",
   "execution_count": 39,
   "id": "b334d5a5",
   "metadata": {},
   "outputs": [],
   "source": [
    "today_date = datetime.today()\n",
    "birth_month = 5\n",
    "birth_day = 18\n",
    "this_year = today_date.year\n",
    "next_birthday = datetime(this_year + 1, birth_month, birth_day)\n",
    "days_to_bday = (next_birthday - today_date).days"
   ]
  },
  {
   "cell_type": "code",
   "execution_count": 41,
   "id": "811d8faf-717c-4b09-adb3-e203d173bec5",
   "metadata": {},
   "outputs": [
    {
     "name": "stdout",
     "output_type": "stream",
     "text": [
      "190 days till my birthday\n"
     ]
    }
   ],
   "source": [
    "print(f'{days_to_bday} days till my birthday')"
   ]
  },
  {
   "cell_type": "markdown",
   "id": "4eb69cbe",
   "metadata": {},
   "source": [
    "### Question 5 - math and random"
   ]
  },
  {
   "cell_type": "markdown",
   "id": "ab4f9b75",
   "metadata": {},
   "source": [
    "1. Suppose you are tasked with simulating the rolling of a fair six-sided die using Python. Utilizing the random module, write a function named roll_die() that returns a random integer between 1 and 6, inclusive, representing the outcome of a single die roll.\n",
    "\n",
    "2. Additionally, imagine you need to calculate the square root of a number. Write another function named calculate_sqrt(num) that takes a single parameter num and returns the square root of that number, using the math module.\n",
    "\n",
    "3. Finally, demonstrate the use of both functions in a program. Prompt the user to input a number and then output the square root of that number, followed by the result of rolling the simulated die.\n",
    "\n",
    "Hints:\n",
    "\n",
    "1. Remember to import the necessary modules (random and math) at the beginning of your code.\n",
    "2. For the calculate_sqrt() function, you can use the math.sqrt() function to calculate the square root of a number.\n",
    "3. For the roll_die() function, utilize the random.randint() function to generate a random integer between 1 and 6."
   ]
  },
  {
   "cell_type": "code",
   "execution_count": 43,
   "id": "56172c7e",
   "metadata": {},
   "outputs": [],
   "source": [
    "# 1.\n",
    "import random"
   ]
  },
  {
   "cell_type": "code",
   "execution_count": 61,
   "id": "33f2fe7c",
   "metadata": {},
   "outputs": [
    {
     "data": {
      "text/plain": [
       "1"
      ]
     },
     "execution_count": 61,
     "metadata": {},
     "output_type": "execute_result"
    }
   ],
   "source": [
    "def roll_die():\n",
    "    number = random.randint(1, 6)\n",
    "    return number\n",
    "\n",
    "roll_die()"
   ]
  },
  {
   "cell_type": "code",
   "execution_count": 63,
   "id": "580127dc",
   "metadata": {},
   "outputs": [],
   "source": [
    "# 2.\n",
    "import math"
   ]
  },
  {
   "cell_type": "code",
   "execution_count": 65,
   "id": "e4e17f20",
   "metadata": {},
   "outputs": [],
   "source": [
    "def calculate_sqrt(num):\n",
    "    return math.sqrt(num)"
   ]
  },
  {
   "cell_type": "code",
   "execution_count": 67,
   "id": "5a222b85",
   "metadata": {},
   "outputs": [
    {
     "data": {
      "text/plain": [
       "5.0"
      ]
     },
     "execution_count": 67,
     "metadata": {},
     "output_type": "execute_result"
    }
   ],
   "source": [
    "calculate_sqrt(25)"
   ]
  },
  {
   "cell_type": "code",
   "execution_count": 83,
   "id": "d9d6581f-c792-4f26-a7e0-94a3fdefd22a",
   "metadata": {},
   "outputs": [
    {
     "name": "stdin",
     "output_type": "stream",
     "text": [
      "Enter a number:  49\n"
     ]
    },
    {
     "name": "stdout",
     "output_type": "stream",
     "text": [
      "The square root of the number you inputed is 7.0\n",
      "and the random die role is 3\n"
     ]
    }
   ],
   "source": [
    "# 3.\n",
    "num = float(input(\"Enter a number: \"))\n",
    "print(f'The square root of the number you inputed is {calculate_sqrt(num)}') \n",
    "print(f'and the random die role is {roll_die()}')"
   ]
  },
  {
   "cell_type": "code",
   "execution_count": null,
   "id": "d23d6c05-f876-4c7f-bdcc-48c640701675",
   "metadata": {},
   "outputs": [],
   "source": []
  }
 ],
 "metadata": {
  "kernelspec": {
   "display_name": "Python 3 (ipykernel)",
   "language": "python",
   "name": "python3"
  },
  "language_info": {
   "codemirror_mode": {
    "name": "ipython",
    "version": 3
   },
   "file_extension": ".py",
   "mimetype": "text/x-python",
   "name": "python",
   "nbconvert_exporter": "python",
   "pygments_lexer": "ipython3",
   "version": "3.12.4"
  }
 },
 "nbformat": 4,
 "nbformat_minor": 5
}
